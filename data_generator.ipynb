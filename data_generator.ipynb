{
 "cells": [
  {
   "cell_type": "code",
   "execution_count": 37,
   "metadata": {},
   "outputs": [],
   "source": [
    "import pandas as pd"
   ]
  },
  {
   "cell_type": "code",
   "execution_count": 38,
   "metadata": {},
   "outputs": [],
   "source": [
    "with open('data_generated.txt','r') as f:\n",
    "    text = f.read()"
   ]
  },
  {
   "cell_type": "code",
   "execution_count": 39,
   "metadata": {},
   "outputs": [],
   "source": [
    "def parse_generated_text_with_proper_bt(text):\n",
    "    instructions = []\n",
    "    sections = text.strip().split(\"###\")\n",
    "    for section in sections:\n",
    "        if ('USER COMMAND:' in section and\n",
    "            'INSTRUCTIONS:' in section and\n",
    "            'INPUT:' in section and\n",
    "            'XML BEHAVIOR TREE OUTPUT:' in section):\n",
    "            \n",
    "            user_command_index = section.find('USER COMMAND:')\n",
    "            instructions_index = section.find('INSTRUCTIONS:')\n",
    "            input_index = section.find('INPUT:')\n",
    "            xml_output_index = section.find('XML BEHAVIOR TREE OUTPUT:')\n",
    "\n",
    "            user_command = section[user_command_index:instructions_index].strip().split(\"USER COMMAND:\")[1].strip()\n",
    "            instructions_text = section[instructions_index:input_index].strip().split(\"INSTRUCTIONS:\")[1].strip()\n",
    "            input_text = section[input_index:xml_output_index].strip().split(\"INPUT:\")[1].strip()\n",
    "            xml_output = section[xml_output_index:].strip().split(\"XML BEHAVIOR TREE OUTPUT:\")[1].strip()\n",
    "\n",
    "            # Properly format the XML Behavior Tree\n",
    "            formatted_xml_output = xml_output.replace('><', '>\\n<').replace('<BehaviorTree>', '\\n<BehaviorTree>')\n",
    "            # formatted_xml_output = xml_output.replace('<BehaviorTree>', '\\n<BehaviorTree>')\n",
    "\n",
    "            instructions.append({\n",
    "                'USER COMMAND': user_command,\n",
    "                'INSTRUCTIONS': instructions_text,\n",
    "                'INPUT': input_text,\n",
    "                'XML BEHAVIOR TREE OUTPUT': formatted_xml_output\n",
    "            })\n",
    "\n",
    "    return instructions\n",
    "\n",
    "\n",
    "instructions = parse_generated_text_with_proper_bt(text)\n",
    "\n",
    "# Convert to DataFrame\n",
    "df_instructions = pd.DataFrame(instructions)\n",
    "\n",
    "# Save to CSV\n",
    "csv_path = \"generated_data_proper_bt_1.csv\"\n",
    "df_instructions.to_csv(csv_path, index=False)\n",
    "\n",
    "\n"
   ]
  },
  {
   "cell_type": "code",
   "execution_count": 40,
   "metadata": {},
   "outputs": [
    {
     "data": {
      "text/plain": [
       "486"
      ]
     },
     "execution_count": 40,
     "metadata": {},
     "output_type": "execute_result"
    }
   ],
   "source": [
    "csv_path = \"generated_data_proper_bt_1.csv\"\n",
    "\n",
    "df = pd.read_csv(csv_path)\n",
    "len(df)"
   ]
  },
  {
   "cell_type": "code",
   "execution_count": 36,
   "metadata": {},
   "outputs": [
    {
     "data": {
      "text/plain": [
       "486"
      ]
     },
     "execution_count": 36,
     "metadata": {},
     "output_type": "execute_result"
    }
   ],
   "source": [
    "csv_path = \"generated_data_proper_bt.csv\"\n",
    "\n",
    "df = pd.read_csv(csv_path)\n",
    "len(df)"
   ]
  }
 ],
 "metadata": {
  "kernelspec": {
   "display_name": "data_openai",
   "language": "python",
   "name": "python3"
  },
  "language_info": {
   "codemirror_mode": {
    "name": "ipython",
    "version": 3
   },
   "file_extension": ".py",
   "mimetype": "text/x-python",
   "name": "python",
   "nbconvert_exporter": "python",
   "pygments_lexer": "ipython3",
   "version": "3.9.16"
  }
 },
 "nbformat": 4,
 "nbformat_minor": 2
}
